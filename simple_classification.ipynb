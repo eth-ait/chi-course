{
 "cells": [
  {
   "cell_type": "markdown",
   "metadata": {
    "collapsed": true
   },
   "source": [
    "This notebook walks you through some simple but general key-ideas in machine learning. In particular we will perform the following steps:\n",
    "\n",
    "   * Import or create a dataset\n",
    "   * Visualize the dataset\n",
    "   * Train a simple classifier on the dataset\n",
    "   * Make predictions with the trained classifier\n",
    "\n",
    "Furthermore, we will investigate what happens when the data becomes harder. Specifically we are looking at ways to deal with non-linearly seperable data.  "
   ]
  },
  {
   "cell_type": "code",
   "execution_count": 4,
   "metadata": {
    "collapsed": false
   },
   "outputs": [],
   "source": [
    "# Import NumPy and Scikit-learn. \n",
    "# See http://scikit-learn.org/stable/user_guide.html for many more tutorials\n",
    "import time\n",
    "import numpy as np\n",
    "np.random.seed(0)\n",
    "# Import matlibplot and seaborn for data visualization\n",
    "import matplotlib.pyplot as plt\n",
    "import seaborn as sns\n",
    "%matplotlib inline"
   ]
  },
  {
   "cell_type": "markdown",
   "metadata": {},
   "source": [
    "First, we will generate some simple toy data using [sklearn](http://scikit-learn.org)'s `make_classification` and `make_blob` functions. sklearn has many useful helper functions to deal with real data and data pre-processing (http://scikit-learn.org/stable/data_transforms.html) that can be used in real-world settings."
   ]
  },
  {
   "cell_type": "code",
   "execution_count": null,
   "metadata": {
    "collapsed": true
   },
   "outputs": [],
   "source": [
    ""
   ]
  }
 ],
 "metadata": {
  "kernelspec": {
   "display_name": "Python 3",
   "name": "python3",
   "language": "python"
  },
  "language_info": {
   "mimetype": "text/x-python",
   "nbconvert_exporter": "python",
   "version": "3.5.1",
   "name": "python",
   "file_extension": ".py",
   "pygments_lexer": "ipython3",
   "codemirror_mode": {
    "version": 3.0,
    "name": "ipython"
   }
  }
 },
 "nbformat": 4,
 "nbformat_minor": 0
}