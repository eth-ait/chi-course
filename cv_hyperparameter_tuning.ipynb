{
 "cells": [
  {
   "cell_type": "raw",
   "metadata": {},
   "source": [
    "Download: https://goo.gl/NrCq9t"
   ]
  },
  {
   "cell_type": "code",
   "execution_count": 10,
   "metadata": {
    "collapsed": false
   },
   "outputs": [],
   "source": [
    "import numpy as np\n",
    "from sklearn import datasets\n",
    "from sklearn.model_selection import GridSearchCV, RandomizedSearchCV, LeaveOneOut, train_test_split\n",
    "from sklearn.svm import SVC\n",
    "from sklearn.ensemble import RandomForestClassifier\n",
    "from scipy.stats import randint as sp_randint\n",
    "np.random.seed(1)"
   ]
  },
  {
   "cell_type": "code",
   "execution_count": 11,
   "metadata": {
    "collapsed": false
   },
   "outputs": [
    {
     "name": "stdout",
     "output_type": "stream",
     "text": [
      "(120, 4) - (30, 4)\n"
     ]
    }
   ],
   "source": [
    "iris =datasets.load_iris()\n",
    "noise = np.random.normal(iris.data.mean(),1,iris.data.shape)\n",
    "#iris.data = iris.data + noise\n",
    "\n",
    "X_train, X_test, labels_train, labels_test = train_test_split(iris.data, iris.target, test_size=0.2, random_state=1)\n",
    "print(str(X_train.shape) + \" - \" + str(X_test.shape))"
   ]
  },
  {
   "cell_type": "markdown",
   "metadata": {},
   "source": [
    "# SVM and Grid Search"
   ]
  },
  {
   "cell_type": "code",
   "execution_count": 12,
   "metadata": {
    "collapsed": false
   },
   "outputs": [
    {
     "name": "stdout",
     "output_type": "stream",
     "text": [
      "Best parameters set found on training set:\n",
      "{'C': 100, 'gamma': 0.001, 'kernel': 'rbf'}\n",
      "\n",
      "Grid scores:\n",
      "Validation: 0.367 (+/-0.482), Training: 0.367  for {'C': 0.01, 'gamma': 0.001, 'kernel': 'rbf'}\n",
      "Validation: 0.367 (+/-0.482), Training: 0.367  for {'C': 0.01, 'gamma': 0.0001, 'kernel': 'rbf'}\n",
      "Validation: 0.692 (+/-0.462), Training: 0.692  for {'C': 1, 'gamma': 0.001, 'kernel': 'rbf'}\n",
      "Validation: 0.367 (+/-0.482), Training: 0.367  for {'C': 1, 'gamma': 0.0001, 'kernel': 'rbf'}\n",
      "Validation: 0.933 (+/-0.249), Training: 0.934  for {'C': 10, 'gamma': 0.001, 'kernel': 'rbf'}\n",
      "Validation: 0.692 (+/-0.462), Training: 0.692  for {'C': 10, 'gamma': 0.0001, 'kernel': 'rbf'}\n",
      "Validation: 0.975 (+/-0.156), Training: 0.976  for {'C': 100, 'gamma': 0.001, 'kernel': 'rbf'}\n",
      "Validation: 0.933 (+/-0.249), Training: 0.934  for {'C': 100, 'gamma': 0.0001, 'kernel': 'rbf'}\n",
      "Validation: 0.867 (+/-0.340), Training: 0.889  for {'C': 0.01, 'kernel': 'linear'}\n",
      "Validation: 0.975 (+/-0.156), Training: 0.983  for {'C': 1, 'kernel': 'linear'}\n",
      "Validation: 0.967 (+/-0.180), Training: 0.975  for {'C': 10, 'kernel': 'linear'}\n",
      "Validation: 0.958 (+/-0.200), Training: 0.975  for {'C': 100, 'kernel': 'linear'}\n",
      "\n",
      "Test Accuracy [0.967]\n"
     ]
    }
   ],
   "source": [
    "# Optimize the parameters by cross-validation\n",
    "parameters = [\n",
    "    {'kernel': ['rbf'], 'gamma': [1e-3, 1e-4], 'C': [0.01, 1, 10, 100]},\n",
    "    {'kernel': ['linear'], 'C': [0.01, 1, 10, 100]}\n",
    "]\n",
    "\n",
    "loo = LeaveOneOut()\n",
    "\n",
    "# Grid search object with SVM classifier.\n",
    "clf = GridSearchCV(SVC(), parameters, cv=10)\n",
    "clf.fit(X_train, labels_train)\n",
    "\n",
    "print(\"Best parameters set found on training set:\")\n",
    "print(clf.best_params_)\n",
    "print()\n",
    "\n",
    "means_valid = clf.cv_results_['mean_test_score']\n",
    "stds_valid = clf.cv_results_['std_test_score']\n",
    "means_train = clf.cv_results_['mean_train_score']\n",
    "\n",
    "print(\"Grid scores:\")\n",
    "for mean_valid, std_valid, mean_train, params in zip(means_valid, stds_valid, means_train, clf.cv_results_['params']):\n",
    "    print(\"Validation: %0.3f (+/-%0.03f), Training: %0.3f  for %r\" % (mean_valid, std_valid, mean_train, params))\n",
    "print()\n",
    "\n",
    "labels_test, labels_predicted = labels_test, clf.predict(X_test)\n",
    "print(\"Test Accuracy [%0.3f]\" % ((labels_predicted == labels_test).mean()))"
   ]
  },
  {
   "cell_type": "markdown",
   "metadata": {},
   "source": [
    "# Random Forest and Random Search"
   ]
  },
  {
   "cell_type": "code",
   "execution_count": 4,
   "metadata": {
    "collapsed": true
   },
   "outputs": [],
   "source": [
    "from sklearn.model_selection import KFold, PredefinedSplit, ShuffleSplit"
   ]
  },
  {
   "cell_type": "code",
   "execution_count": 13,
   "metadata": {
    "collapsed": false
   },
   "outputs": [
    {
     "name": "stdout",
     "output_type": "stream",
     "text": [
      "Best parameters set found on training set:\n",
      "{'max_depth': 3, 'max_features': 1, 'min_samples_leaf': 2, 'min_samples_split': 9, 'n_estimators': 3}\n",
      "\n",
      "Grid scores:\n",
      "Validation: 0.942 (+/-0.068), Training: 0.958  for {'max_depth': 3, 'max_features': 1, 'min_samples_leaf': 2, 'min_samples_split': 9, 'n_estimators': 3}\n",
      "Validation: 0.758 (+/-0.069), Training: 0.820  for {'max_depth': 3, 'max_features': 2, 'min_samples_leaf': 9, 'min_samples_split': 2, 'n_estimators': 1}\n",
      "Validation: 0.783 (+/-0.144), Training: 0.870  for {'max_depth': 3, 'max_features': 1, 'min_samples_leaf': 9, 'min_samples_split': 7, 'n_estimators': 1}\n",
      "Validation: 0.883 (+/-0.085), Training: 0.917  for {'max_depth': 2, 'max_features': 2, 'min_samples_leaf': 4, 'min_samples_split': 6, 'n_estimators': 5}\n",
      "Validation: 0.925 (+/-0.082), Training: 0.944  for {'max_depth': 3, 'max_features': 3, 'min_samples_leaf': 6, 'min_samples_split': 5, 'n_estimators': 1}\n",
      "Validation: 0.900 (+/-0.062), Training: 0.938  for {'max_depth': 2, 'max_features': 1, 'min_samples_leaf': 7, 'min_samples_split': 8, 'n_estimators': 5}\n",
      "Validation: 0.917 (+/-0.078), Training: 0.925  for {'max_depth': 2, 'max_features': 2, 'min_samples_leaf': 3, 'min_samples_split': 9, 'n_estimators': 5}\n",
      "Validation: 0.933 (+/-0.075), Training: 0.954  for {'max_depth': 2, 'max_features': 3, 'min_samples_leaf': 7, 'min_samples_split': 3, 'n_estimators': 3}\n",
      "Validation: 0.883 (+/-0.085), Training: 0.900  for {'max_depth': 3, 'max_features': 2, 'min_samples_leaf': 8, 'min_samples_split': 3, 'n_estimators': 3}\n",
      "Validation: 0.683 (+/-0.089), Training: 0.741  for {'max_depth': 2, 'max_features': 1, 'min_samples_leaf': 3, 'min_samples_split': 2, 'n_estimators': 1}\n",
      "\n",
      "Test Accuracy [0.967]\n"
     ]
    }
   ],
   "source": [
    "# cv parameter of RandomizedSearchCV or GridSearchCV can be fed with a customized cross-validation object.\n",
    "ss = ShuffleSplit(n_splits=10, test_size=0.2, random_state=1)\n",
    "                  \n",
    "# Optimize the parameters by cross-validation.\n",
    "parameters = {\n",
    "        \"max_depth\": sp_randint(2, 4),\n",
    "        \"max_features\": sp_randint(1, 4),\n",
    "        \"min_samples_split\": sp_randint(2, 10),\n",
    "        \"min_samples_leaf\": sp_randint(2, 10),\n",
    "        'n_estimators': [1,3,5,10],\n",
    "    }\n",
    "\n",
    "# Random search object with SVM classifier.\n",
    "clf = RandomizedSearchCV(\n",
    "        estimator=RandomForestClassifier(random_state=1),\n",
    "        param_distributions=parameters,\n",
    "        n_iter=10,\n",
    "        cv=10,\n",
    "        random_state=1,\n",
    "    )\n",
    "clf.fit(X_train, labels_train)\n",
    "\n",
    "print(\"Best parameters set found on training set:\")\n",
    "print(clf.best_params_)\n",
    "print()\n",
    "\n",
    "means_valid = clf.cv_results_['mean_test_score']\n",
    "stds_valid = clf.cv_results_['std_test_score']\n",
    "means_train = clf.cv_results_['mean_train_score']\n",
    "\n",
    "print(\"Grid scores:\")\n",
    "for mean_valid, std_valid, mean_train, params in zip(means_valid, stds_valid, means_train, clf.cv_results_['params']):\n",
    "    print(\"Validation: %0.3f (+/-%0.03f), Training: %0.3f  for %r\" % (mean_valid, std_valid, mean_train, params))\n",
    "print()\n",
    "\n",
    "labels_test, labels_predicted = labels_test, clf.predict(X_test)\n",
    "print(\"Test Accuracy [%0.3f]\" % ((labels_predicted == labels_test).mean()))"
   ]
  },
  {
   "cell_type": "markdown",
   "metadata": {
    "collapsed": true
   },
   "source": [
    "## Random Search vs. Grid Search\n",
    "\n",
    "![title](randomVsgrid.png)\n",
    "\n",
    "\n",
    "Image source and further reading: Bergstra, J., & Bengio, Y. (2012). Random search for hyper-parameter optimization. Journal of Machine Learning Research, 13(Feb), 281-305."
   ]
  },
  {
   "cell_type": "code",
   "execution_count": 11,
   "metadata": {
    "collapsed": false
   },
   "outputs": [
    {
     "name": "stdout",
     "output_type": "stream",
     "text": [
      "RandomizedSearchCV took 29.74 seconds for 216 candidates parameter settings.\n",
      "Model with rank: 1\n",
      "Mean validation score: 0.934 (std: 0.005)\n",
      "Parameters: {'bootstrap': False, 'criterion': 'gini', 'max_depth': None, 'max_features': 5, 'min_samples_leaf': 2, 'min_samples_split': 8}\n",
      "\n",
      "Model with rank: 1\n",
      "Mean validation score: 0.934 (std: 0.011)\n",
      "Parameters: {'bootstrap': False, 'criterion': 'gini', 'max_depth': None, 'max_features': 7, 'min_samples_leaf': 2, 'min_samples_split': 3}\n",
      "\n",
      "Model with rank: 3\n",
      "Mean validation score: 0.932 (std: 0.008)\n",
      "Parameters: {'bootstrap': False, 'criterion': 'gini', 'max_depth': None, 'max_features': 6, 'min_samples_leaf': 1, 'min_samples_split': 5}\n",
      "\n",
      "GridSearchCV took 27.85 seconds for 216 candidate parameter settings.\n",
      "Model with rank: 1\n",
      "Mean validation score: 0.935 (std: 0.003)\n",
      "Parameters: {'bootstrap': False, 'criterion': 'entropy', 'max_depth': None, 'max_features': 3, 'min_samples_leaf': 3, 'min_samples_split': 10}\n",
      "\n",
      "Model with rank: 2\n",
      "Mean validation score: 0.933 (std: 0.007)\n",
      "Parameters: {'bootstrap': False, 'criterion': 'gini', 'max_depth': None, 'max_features': 10, 'min_samples_leaf': 1, 'min_samples_split': 3}\n",
      "\n",
      "Model with rank: 3\n",
      "Mean validation score: 0.931 (std: 0.002)\n",
      "Parameters: {'bootstrap': True, 'criterion': 'entropy', 'max_depth': None, 'max_features': 3, 'min_samples_leaf': 1, 'min_samples_split': 2}\n",
      "\n",
      "Model with rank: 3\n",
      "Mean validation score: 0.931 (std: 0.005)\n",
      "Parameters: {'bootstrap': False, 'criterion': 'gini', 'max_depth': None, 'max_features': 3, 'min_samples_leaf': 1, 'min_samples_split': 3}\n",
      "\n"
     ]
    }
   ],
   "source": [
    "#Example Code: http://scikit-learn.org/stable/auto_examples/model_selection/randomized_search.html\n",
    "import numpy as np\n",
    "\n",
    "from time import time\n",
    "from scipy.stats import randint as sp_randint\n",
    "\n",
    "from sklearn.model_selection import GridSearchCV\n",
    "from sklearn.model_selection import RandomizedSearchCV\n",
    "from sklearn.datasets import load_digits\n",
    "from sklearn.ensemble import RandomForestClassifier\n",
    "\n",
    "# get some data\n",
    "digits = load_digits()\n",
    "X, y = digits.data, digits.target\n",
    "\n",
    "# build a classifier\n",
    "clf = RandomForestClassifier(n_estimators=20)\n",
    "\n",
    "\n",
    "# Utility function to report best scores\n",
    "def report(results, n_top=3):\n",
    "    for i in range(1, n_top + 1):\n",
    "        candidates = np.flatnonzero(results['rank_test_score'] == i)\n",
    "        for candidate in candidates:\n",
    "            print(\"Model with rank: {0}\".format(i))\n",
    "            print(\"Mean validation score: {0:.3f} (std: {1:.3f})\".format(\n",
    "                  results['mean_test_score'][candidate],\n",
    "                  results['std_test_score'][candidate]))\n",
    "            print(\"Parameters: {0}\".format(results['params'][candidate]))\n",
    "            print(\"\")\n",
    "\n",
    "\n",
    "# specify parameters and distributions to sample from\n",
    "param_dist = {\"max_depth\": [3, None],\n",
    "              \"max_features\": sp_randint(1, 11),\n",
    "              \"min_samples_split\": sp_randint(2, 11),\n",
    "              \"min_samples_leaf\": sp_randint(1, 11),\n",
    "              \"bootstrap\": [True, False],\n",
    "              \"criterion\": [\"gini\", \"entropy\"]}\n",
    "\n",
    "# run randomized search\n",
    "n_iter_search = 216\n",
    "random_search = RandomizedSearchCV(clf, param_distributions=param_dist,\n",
    "                                   n_iter=n_iter_search)\n",
    "\n",
    "start = time()\n",
    "random_search.fit(X, y)\n",
    "print(\"RandomizedSearchCV took %.2f seconds for %d candidates\"\n",
    "      \" parameter settings.\" % ((time() - start), n_iter_search))\n",
    "report(random_search.cv_results_)\n",
    "\n",
    "# use a full grid over all parameters\n",
    "param_grid = {\"max_depth\": [3, None],\n",
    "              \"max_features\": [1, 3, 10],\n",
    "              \"min_samples_split\": [2, 3, 10],\n",
    "              \"min_samples_leaf\": [1, 3, 10],\n",
    "              \"bootstrap\": [True, False],\n",
    "              \"criterion\": [\"gini\", \"entropy\"]}\n",
    "\n",
    "# run grid search\n",
    "grid_search = GridSearchCV(clf, param_grid=param_grid)\n",
    "start = time()\n",
    "grid_search.fit(X, y)\n",
    "\n",
    "print(\"GridSearchCV took %.2f seconds for %d candidate parameter settings.\"\n",
    "      % (time() - start, len(grid_search.cv_results_['params'])))\n",
    "report(grid_search.cv_results_)"
   ]
  },
  {
   "cell_type": "code",
   "execution_count": null,
   "metadata": {
    "collapsed": true
   },
   "outputs": [],
   "source": []
  }
 ],
 "metadata": {
  "kernelspec": {
   "display_name": "Python 3",
   "language": "python",
   "name": "python3"
  },
  "language_info": {
   "codemirror_mode": {
    "name": "ipython",
    "version": 3
   },
   "file_extension": ".py",
   "mimetype": "text/x-python",
   "name": "python",
   "nbconvert_exporter": "python",
   "pygments_lexer": "ipython3",
   "version": "3.6.0"
  }
 },
 "nbformat": 4,
 "nbformat_minor": 2
}
